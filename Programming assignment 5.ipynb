{
 "cells": [
  {
   "cell_type": "code",
   "execution_count": 4,
   "id": "b1c597a2",
   "metadata": {},
   "outputs": [
    {
     "name": "stdout",
     "output_type": "stream",
     "text": [
      "Enter first number for finding LCM: 8\n",
      "Enter second number for finding LCM: 12\n",
      "The LCM is 24\n"
     ]
    }
   ],
   "source": [
    "#1. Answer\n",
    "\n",
    "x=int(input(\"Enter first number for finding LCM: \"))\n",
    "y=int(input(\"Enter second number for finding LCM: \"))\n",
    "def compute_gcd(x, y):\n",
    "    while(y):\n",
    "        x, y = y, x % y\n",
    "    return x\n",
    "\n",
    "def compute_lcm(x, y):\n",
    "    lcm = (x*y)//compute_gcd(x,y)\n",
    "    return lcm\n",
    "print(\"The LCM is\", compute_lcm(x, y))"
   ]
  },
  {
   "cell_type": "code",
   "execution_count": 5,
   "id": "506d3a80",
   "metadata": {},
   "outputs": [
    {
     "name": "stdout",
     "output_type": "stream",
     "text": [
      "Enter first number for finding LCM: 8\n",
      "Enter second number for finding LCM: 12\n",
      "The HCF is 4\n"
     ]
    }
   ],
   "source": [
    "#2. Answer\n",
    "\n",
    "x=int(input(\"Enter first number for finding LCM: \"))\n",
    "y=int(input(\"Enter second number for finding LCM: \"))\n",
    "def compute_gcd(x, y):\n",
    "    while(y):\n",
    "        x, y = y, x % y\n",
    "    return x\n",
    "print(\"The HCF is\", compute_gcd(x, y))"
   ]
  },
  {
   "cell_type": "code",
   "execution_count": 6,
   "id": "3ddade27",
   "metadata": {},
   "outputs": [
    {
     "name": "stdout",
     "output_type": "stream",
     "text": [
      "Enter the decimal value: 64\n",
      "The decimal value of 64 is:\n",
      "0b1000000 in binary.\n",
      "0o100 in octal.\n",
      "0x40 in hexadecimal.\n"
     ]
    }
   ],
   "source": [
    "#3. Answer\n",
    "\n",
    "dec=int(input(\"Enter the decimal value: \"))\n",
    "print(\"The decimal value of\", dec, \"is:\")\n",
    "print(bin(dec), \"in binary.\")\n",
    "print(oct(dec), \"in octal.\")\n",
    "print(hex(dec), \"in hexadecimal.\")"
   ]
  },
  {
   "cell_type": "code",
   "execution_count": 11,
   "id": "894659d0",
   "metadata": {},
   "outputs": [
    {
     "name": "stdout",
     "output_type": "stream",
     "text": [
      "Enter any character to find its ASCII value: a\n",
      "The ASCII value of a is 97\n"
     ]
    }
   ],
   "source": [
    "#4. Answer\n",
    "\n",
    "char=input(\"Enter any character to find its ASCII value: \")\n",
    "print(\"The ASCII value of\",char,\"is\", ord(char))"
   ]
  },
  {
   "cell_type": "code",
   "execution_count": 13,
   "id": "606f18f7",
   "metadata": {},
   "outputs": [
    {
     "name": "stdout",
     "output_type": "stream",
     "text": [
      "Select operation.\n",
      "1.Add\n",
      "2.Subtract\n",
      "3.Multiply\n",
      "4.Divide\n",
      "Enter choice(1/2/3/4): 1\n",
      "Enter first number: 45\n",
      "Enter second number: 78\n",
      "45.0 + 78.0 = 123.0\n",
      "Let's do next calculation? (yes/no): no\n"
     ]
    }
   ],
   "source": [
    "#5. Answer\n",
    "\n",
    "def add(x, y):\n",
    "    return x + y\n",
    "\n",
    "def subtract(x, y):\n",
    "    return x - y\n",
    "\n",
    "def multiply(x, y):\n",
    "    return x * y\n",
    "\n",
    "def divide(x, y):\n",
    "    return x / y\n",
    "\n",
    "\n",
    "print(\"Select operation.\")\n",
    "print(\"1.Add\")\n",
    "print(\"2.Subtract\")\n",
    "print(\"3.Multiply\")\n",
    "print(\"4.Divide\")\n",
    "\n",
    "while True:\n",
    "    choice = input(\"Enter choice(1/2/3/4): \")\n",
    "\n",
    "    if choice in ('1', '2', '3', '4'):\n",
    "        num1 = float(input(\"Enter first number: \"))\n",
    "        num2 = float(input(\"Enter second number: \"))\n",
    "\n",
    "        if choice == '1':\n",
    "            print(num1, \"+\", num2, \"=\", add(num1, num2))\n",
    "\n",
    "        elif choice == '2':\n",
    "            print(num1, \"-\", num2, \"=\", subtract(num1, num2))\n",
    "\n",
    "        elif choice == '3':\n",
    "            print(num1, \"*\", num2, \"=\", multiply(num1, num2))\n",
    "\n",
    "        elif choice == '4':\n",
    "            print(num1, \"/\", num2, \"=\", divide(num1, num2))\n",
    "        \n",
    "        next_calculation = input(\"Let's do next calculation? (yes/no): \")\n",
    "        if next_calculation == \"no\":\n",
    "            break\n",
    "    \n",
    "    else:\n",
    "        print(\"Invalid Input\")"
   ]
  }
 ],
 "metadata": {
  "kernelspec": {
   "display_name": "Python 3 (ipykernel)",
   "language": "python",
   "name": "python3"
  },
  "language_info": {
   "codemirror_mode": {
    "name": "ipython",
    "version": 3
   },
   "file_extension": ".py",
   "mimetype": "text/x-python",
   "name": "python",
   "nbconvert_exporter": "python",
   "pygments_lexer": "ipython3",
   "version": "3.9.7"
  }
 },
 "nbformat": 4,
 "nbformat_minor": 5
}
