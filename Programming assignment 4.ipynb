{
 "cells": [
  {
   "cell_type": "code",
   "execution_count": 7,
   "id": "253eba65",
   "metadata": {},
   "outputs": [
    {
     "name": "stdout",
     "output_type": "stream",
     "text": [
      "Enter any number: 5\n",
      "The facrtorial of 5 is 120\n"
     ]
    }
   ],
   "source": [
    "# 1. Answer\n",
    "n=int(input('Enter any number: '))\n",
    "k=1\n",
    "if n< 0:\n",
    "    print(\"Factorial does not exist for negative number\")\n",
    "elif n==0:\n",
    "    print(\"Factorial of 0 is 1\")\n",
    "else:\n",
    "    for i in range(1, n+1):\n",
    "        k=k*i\n",
    "    print(\"The facrtorial of\", n, \"is\", k)"
   ]
  },
  {
   "cell_type": "code",
   "execution_count": 8,
   "id": "9e303d7b",
   "metadata": {},
   "outputs": [
    {
     "name": "stdout",
     "output_type": "stream",
     "text": [
      "Enter the number to display its multiplication table: 5\n",
      "5 x 1 = 5\n",
      "5 x 2 = 10\n",
      "5 x 3 = 15\n",
      "5 x 4 = 20\n",
      "5 x 5 = 25\n",
      "5 x 6 = 30\n",
      "5 x 7 = 35\n",
      "5 x 8 = 40\n",
      "5 x 9 = 45\n",
      "5 x 10 = 50\n"
     ]
    }
   ],
   "source": [
    "# 2. Answer\n",
    "num=int(input(\"Enter the number to display its multiplication table: \"))\n",
    "for i in range(1, 11):\n",
    "    print(num, \"x\", i, \"=\", num*i)"
   ]
  },
  {
   "cell_type": "code",
   "execution_count": 1,
   "id": "89f674e2",
   "metadata": {},
   "outputs": [
    {
     "name": "stdout",
     "output_type": "stream",
     "text": [
      "Enter the number of terms to print: 8\n",
      "Fibonacci series upto 8 terms :\n",
      "0\n",
      "1\n",
      "1\n",
      "2\n",
      "3\n",
      "5\n",
      "8\n",
      "13\n"
     ]
    }
   ],
   "source": [
    "# 3. Answer\n",
    "t=int(input(\"Enter the number of terms to print: \"))\n",
    "n1=0\n",
    "n2=1\n",
    "count=0\n",
    "\n",
    "if  t<=0:\n",
    "    print(\"Please enter positive value.\")\n",
    "    \n",
    "elif t==1:\n",
    "    print(\"Fibonacci series upto\", t, \"terms :\")\n",
    "    print(n1)\n",
    "else:\n",
    "    print(\"Fibonacci series upto\", t, \"terms :\")\n",
    "    while count<t:\n",
    "        print(n1)\n",
    "        nth=n1+n2\n",
    "        n1=n2\n",
    "        n2=nth\n",
    "        count+=1"
   ]
  },
  {
   "cell_type": "code",
   "execution_count": 2,
   "id": "26afefbe",
   "metadata": {},
   "outputs": [
    {
     "name": "stdout",
     "output_type": "stream",
     "text": [
      "Enter any number: 456\n",
      "456 is not an Armstrong number.\n"
     ]
    }
   ],
   "source": [
    "# 4. Answer\n",
    "num=int(input(\"Enter any number: \"))\n",
    "order=len(str(num))\n",
    "sum1=0\n",
    "temp=num\n",
    "while temp>0:\n",
    "    digit=temp%10\n",
    "    sum1+= digit**order\n",
    "    temp//=10\n",
    "    \n",
    "if num==sum1:\n",
    "    print(num, \"is an Armstrong number.\")\n",
    "else:\n",
    "    print(num, \"is not an Armstrong number.\")"
   ]
  },
  {
   "cell_type": "code",
   "execution_count": 1,
   "id": "8324835a",
   "metadata": {},
   "outputs": [
    {
     "name": "stdout",
     "output_type": "stream",
     "text": [
      "Enter the lower value of the interval: 100\n",
      "Enter the upper value of the interval: 2000\n",
      "Armstrong numbers in the given interval are: \n",
      "153\n",
      "370\n",
      "371\n",
      "407\n",
      "1634\n"
     ]
    }
   ],
   "source": [
    "# 5. Answer\n",
    "lower=int(input(\"Enter the lower value of the interval: \"))\n",
    "upper=int(input(\"Enter the upper value of the interval: \"))\n",
    "print(\"Armstrong numbers in the given interval are: \")\n",
    "\n",
    "for num in range(lower, upper+1):\n",
    "    order=len(str(num))\n",
    "    sum1=0\n",
    "    temp=num\n",
    "    while temp>0:\n",
    "        digit=temp%10\n",
    "        sum1+= digit**order\n",
    "        temp//=10\n",
    "    if num==sum1:\n",
    "        print(num)"
   ]
  },
  {
   "cell_type": "code",
   "execution_count": 2,
   "id": "760ae10e",
   "metadata": {},
   "outputs": [
    {
     "name": "stdout",
     "output_type": "stream",
     "text": [
      "Sum of how many natural number: 5\n",
      "Sum of 5 natural numbers is:  15\n"
     ]
    }
   ],
   "source": [
    "# 6. Answer\n",
    "\n",
    "sum2=0\n",
    "num=int(input(\"Sum of how many natural number: \"))\n",
    "if num<0:\n",
    "    print(\"Enter a positive number.\")\n",
    "else:\n",
    "    for i in range(0,num+1):\n",
    "        sum2+=i\n",
    "    print(\"Sum of\", num, \"natural numbers is: \", sum2)"
   ]
  }
 ],
 "metadata": {
  "kernelspec": {
   "display_name": "Python 3 (ipykernel)",
   "language": "python",
   "name": "python3"
  },
  "language_info": {
   "codemirror_mode": {
    "name": "ipython",
    "version": 3
   },
   "file_extension": ".py",
   "mimetype": "text/x-python",
   "name": "python",
   "nbconvert_exporter": "python",
   "pygments_lexer": "ipython3",
   "version": "3.9.7"
  }
 },
 "nbformat": 4,
 "nbformat_minor": 5
}
