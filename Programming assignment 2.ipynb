{
 "cells": [
  {
   "cell_type": "code",
   "execution_count": 10,
   "id": "6f18054d",
   "metadata": {},
   "outputs": [
    {
     "name": "stdout",
     "output_type": "stream",
     "text": [
      "Enter distance in kilometer:10\n",
      "Distance in miles is: 6.21\n"
     ]
    }
   ],
   "source": [
    "# 1. Answer\n",
    "km=float(input('Enter distance in kilometer:'))\n",
    "m=km*0.621\n",
    "print('Distance in miles is:', m)"
   ]
  },
  {
   "cell_type": "code",
   "execution_count": 16,
   "id": "93237366",
   "metadata": {},
   "outputs": [
    {
     "name": "stdout",
     "output_type": "stream",
     "text": [
      "Enter temperature in Celsius:20\n",
      "Temperature in Fahrenheit is: 68.0\n"
     ]
    }
   ],
   "source": [
    "# 2. Answer\n",
    "C=float(input('Enter temperature in Celsius:'))\n",
    "F=C*1.8 +32\n",
    "print('Temperature in Fahrenheit is:', F)"
   ]
  },
  {
   "cell_type": "code",
   "execution_count": 18,
   "id": "e9913009",
   "metadata": {},
   "outputs": [
    {
     "name": "stdout",
     "output_type": "stream",
     "text": [
      "Enter the year:1998\n",
      "Enter the month:08\n",
      "    August 1998\n",
      "Mo Tu We Th Fr Sa Su\n",
      "                1  2\n",
      " 3  4  5  6  7  8  9\n",
      "10 11 12 13 14 15 16\n",
      "17 18 19 20 21 22 23\n",
      "24 25 26 27 28 29 30\n",
      "31\n",
      "\n"
     ]
    }
   ],
   "source": [
    "# 3. Answer\n",
    "import calendar\n",
    "yy=int(input('Enter the year:'))\n",
    "mm=int(input('Enter the month:'))\n",
    "print(calendar.month(yy,mm))"
   ]
  },
  {
   "cell_type": "code",
   "execution_count": 25,
   "id": "4bdacb4d",
   "metadata": {},
   "outputs": [
    {
     "name": "stdout",
     "output_type": "stream",
     "text": [
      "Enter x^2 coefficient in quadratic equation (a):1\n",
      "Enter x coefficient in quadratic equation (b):5\n",
      "Enter constant value in quadratic equation (c): 6\n",
      "The function has two distinct real roots: -2.0 and -3.0\n"
     ]
    }
   ],
   "source": [
    "# 4. Asnwer\n",
    "import math\n",
    "a=int(input('Enter x^2 coefficient in quadratic equation (a):'))\n",
    "b=int(input('Enter x coefficient in quadratic equation (b):'))\n",
    "c=int(input('Enter constant value in quadratic equation (c): '))\n",
    "\n",
    "discriminant = b**2 - 4 * a * c\n",
    " \n",
    "if discriminant >= 0:\n",
    "    x_1=(-b+math.sqrt(discriminant))/2*a\n",
    "    x_2=(-b-math.sqrt(discriminant))/2*a\n",
    "else:\n",
    "    x_1= complex((-b/(2*a)),math.sqrt(-discriminant)/(2*a))\n",
    "    x_2= complex((-b/(2*a)),-math.sqrt(-discriminant)/(2*a))\n",
    "    \n",
    "if discriminant > 0:\n",
    "    print(\"The function has two distinct real roots: {} and {}\".format(x_1,x_2))\n",
    "elif discriminant == 0:\n",
    "    print(\"The function has one double root: \", x_1)\n",
    "else:\n",
    "    print(\"The function has two complex (conjugate) roots: {}  and {}\".format(x_1,x_2))"
   ]
  },
  {
   "cell_type": "code",
   "execution_count": 26,
   "id": "66be57e4",
   "metadata": {},
   "outputs": [
    {
     "name": "stdout",
     "output_type": "stream",
     "text": [
      "Enter first number:4\n",
      "Enter second number:7\n",
      "The first number after swap is: 7\n",
      "The second number after swap is: 4\n"
     ]
    }
   ],
   "source": [
    "# 5. Answer\n",
    "x=int(input('Enter first number:'))\n",
    "y=int(input('Enter second number:'))\n",
    "x,y=y,x\n",
    "print('The first number after swap is:', x)\n",
    "print('The second number after swap is:', y)"
   ]
  }
 ],
 "metadata": {
  "kernelspec": {
   "display_name": "Python 3 (ipykernel)",
   "language": "python",
   "name": "python3"
  },
  "language_info": {
   "codemirror_mode": {
    "name": "ipython",
    "version": 3
   },
   "file_extension": ".py",
   "mimetype": "text/x-python",
   "name": "python",
   "nbconvert_exporter": "python",
   "pygments_lexer": "ipython3",
   "version": "3.9.7"
  }
 },
 "nbformat": 4,
 "nbformat_minor": 5
}
