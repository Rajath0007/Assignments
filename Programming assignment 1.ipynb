{
 "cells": [
  {
   "cell_type": "code",
   "execution_count": 1,
   "id": "a47fbd9a",
   "metadata": {},
   "outputs": [
    {
     "name": "stdout",
     "output_type": "stream",
     "text": [
      "Hello Python\n"
     ]
    }
   ],
   "source": [
    "# 1.Answer.\n",
    "print('Hello Python')"
   ]
  },
  {
   "cell_type": "code",
   "execution_count": 3,
   "id": "ba92ea12",
   "metadata": {},
   "outputs": [
    {
     "name": "stdout",
     "output_type": "stream",
     "text": [
      "Enter a value:2\n",
      "Enter a value:3\n",
      "The sum of 2 and 3 is 5\n",
      "The division of 2 and 3 is 0.6666666666666666\n"
     ]
    }
   ],
   "source": [
    "# 2.Answer.\n",
    "a=int(input('Enter a integer value:'))\n",
    "b=int(input('Enter a integer value:'))\n",
    "s=a+b\n",
    "d=a/b\n",
    "print('The sum of {} and {} is {}'. format(a,b,s))\n",
    "print('The division of {} and {} is {}'. format(a,b,d))"
   ]
  },
  {
   "cell_type": "code",
   "execution_count": 4,
   "id": "ca491d11",
   "metadata": {},
   "outputs": [
    {
     "name": "stdout",
     "output_type": "stream",
     "text": [
      "Enter base of the triangle:4\n",
      "Enter height of the triangle:3\n",
      "The area of the traingle is 6.0\n"
     ]
    }
   ],
   "source": [
    "# 3. Answer\n",
    "base=int(input('Enter base of the triangle:'))\n",
    "height=int(input('Enter height of the triangle:'))\n",
    "Area=1/2*base*height\n",
    "print('The area of the traingle is', Area)"
   ]
  },
  {
   "cell_type": "code",
   "execution_count": 6,
   "id": "8a14a831",
   "metadata": {},
   "outputs": [
    {
     "name": "stdout",
     "output_type": "stream",
     "text": [
      "Enter first value:2\n",
      "Enter second value:3\n",
      "The first value after swap is : 3\n",
      "The second value after swap is : 2\n"
     ]
    }
   ],
   "source": [
    "# 4. Answer\n",
    "x=int(input('Enter first value:'))\n",
    "y=int(input('Enter second value:'))\n",
    "temp=x\n",
    "x=y\n",
    "y=temp\n",
    "print('The first value after swap is :', x)\n",
    "print('The second value after swap is :', y)"
   ]
  },
  {
   "cell_type": "code",
   "execution_count": 8,
   "id": "1ff85297",
   "metadata": {},
   "outputs": [
    {
     "name": "stdout",
     "output_type": "stream",
     "text": [
      "37\n"
     ]
    }
   ],
   "source": [
    "# 5. Answer\n",
    "import random\n",
    "n=random.randint(0,100)\n",
    "print(n)\n"
   ]
  },
  {
   "cell_type": "code",
   "execution_count": null,
   "id": "c2235845",
   "metadata": {},
   "outputs": [],
   "source": []
  }
 ],
 "metadata": {
  "kernelspec": {
   "display_name": "Python 3 (ipykernel)",
   "language": "python",
   "name": "python3"
  },
  "language_info": {
   "codemirror_mode": {
    "name": "ipython",
    "version": 3
   },
   "file_extension": ".py",
   "mimetype": "text/x-python",
   "name": "python",
   "nbconvert_exporter": "python",
   "pygments_lexer": "ipython3",
   "version": "3.9.7"
  }
 },
 "nbformat": 4,
 "nbformat_minor": 5
}
