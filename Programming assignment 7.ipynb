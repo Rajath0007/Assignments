{
 "cells": [
  {
   "cell_type": "code",
   "execution_count": 5,
   "id": "187e758b",
   "metadata": {},
   "outputs": [
    {
     "name": "stdout",
     "output_type": "stream",
     "text": [
      "The sum of array elements are:  19\n"
     ]
    }
   ],
   "source": [
    "# 1. Answer\n",
    "\n",
    "def array_sum(arr):\n",
    "    sum = 0\n",
    "    for i in arr:\n",
    "        sum = sum + i\n",
    "        \n",
    "    return(sum)\n",
    "\n",
    "#Example\n",
    "a=[2,4,6,7]\n",
    "print(\"The sum of array elements are: \", array_sum(a))"
   ]
  },
  {
   "cell_type": "code",
   "execution_count": 4,
   "id": "3da76abc",
   "metadata": {},
   "outputs": [
    {
     "name": "stdout",
     "output_type": "stream",
     "text": [
      "Largest in given array  89\n"
     ]
    }
   ],
   "source": [
    "# 2. Answer\n",
    "\n",
    "def largest(arr):\n",
    "    max = arr[0]\n",
    "    \n",
    "    for i in range(1, len(arr)):\n",
    "        if arr[i] > max:\n",
    "            max = arr[i]\n",
    "    return max\n",
    " \n",
    "#example\n",
    "ar = [15, 18, 42, 56, 89, 22, 7]\n",
    "print(\"Largest in given array \", largest(ar))\n"
   ]
  },
  {
   "cell_type": "code",
   "execution_count": 9,
   "id": "6503822f",
   "metadata": {},
   "outputs": [
    {
     "name": "stdout",
     "output_type": "stream",
     "text": [
      "Array after left rotation is:  [4, 5, 6, 7, 1, 2, 3]\n"
     ]
    }
   ],
   "source": [
    "# 3. Answer \n",
    "\n",
    "def rotateArray(arr, n, d):\n",
    "    temp = []\n",
    "    i = 0\n",
    "    while (i < d):\n",
    "        temp.append(arr[i])\n",
    "        i = i + 1\n",
    "    i = 0\n",
    "    while (d < n):\n",
    "        arr[i] = arr[d]\n",
    "        i = i + 1\n",
    "        d = d + 1\n",
    "    arr[:] = arr[: i] + temp\n",
    "    return arr\n",
    "\n",
    "#example rotating the array by 3 elements\n",
    "arr = [1, 2, 3, 4, 5, 6, 7]\n",
    "print(\"Array after left rotation is: \", end=' ')\n",
    "print(rotateArray(arr, len(arr), 3))"
   ]
  },
  {
   "cell_type": "code",
   "execution_count": 12,
   "id": "fa9f09f9",
   "metadata": {},
   "outputs": [
    {
     "name": "stdout",
     "output_type": "stream",
     "text": [
      "the array after splitting:  [5, 6, 52, 36, 12, 10]\n"
     ]
    }
   ],
   "source": [
    "# 4. Answer\n",
    "\n",
    "def splitArr(a, n, k): \n",
    "    b = a[:k]\n",
    "    return (a[k::]+b[::])\n",
    "          \n",
    "#emaple splitting array at index 2\n",
    "arr = [12, 10, 5, 6, 52, 36]\n",
    "n = len(arr)\n",
    "position = 2\n",
    "arr = splitArr(arr, len(arr), position)\n",
    "print(\"the array after splitting: \", arr)"
   ]
  },
  {
   "cell_type": "code",
   "execution_count": 14,
   "id": "abbcedf5",
   "metadata": {},
   "outputs": [
    {
     "name": "stdout",
     "output_type": "stream",
     "text": [
      "True\n"
     ]
    }
   ],
   "source": [
    "# 5. Answer\n",
    "\n",
    "def isMonotonic(A):\n",
    "  \n",
    "    return (all(A[i] <= A[i + 1] for i in range(len(A) - 1)) or\n",
    "            all(A[i] >= A[i + 1] for i in range(len(A) - 1)))\n",
    "  \n",
    "#example\n",
    "A = [1, 2, 3, 4, 5, 5]\n",
    "print(isMonotonic(A))\n"
   ]
  }
 ],
 "metadata": {
  "kernelspec": {
   "display_name": "Python 3 (ipykernel)",
   "language": "python",
   "name": "python3"
  },
  "language_info": {
   "codemirror_mode": {
    "name": "ipython",
    "version": 3
   },
   "file_extension": ".py",
   "mimetype": "text/x-python",
   "name": "python",
   "nbconvert_exporter": "python",
   "pygments_lexer": "ipython3",
   "version": "3.9.7"
  }
 },
 "nbformat": 4,
 "nbformat_minor": 5
}
